{
 "cells": [
  {
   "cell_type": "code",
   "execution_count": 1,
   "id": "a4180801-7ebd-4e28-bfe5-064082d29895",
   "metadata": {},
   "outputs": [],
   "source": [
    "import numpy as np"
   ]
  },
  {
   "cell_type": "code",
   "execution_count": 2,
   "id": "f83151b4-bc0f-48cb-9665-82003c85be20",
   "metadata": {},
   "outputs": [],
   "source": [
    "ZOMBIE = \"💀\"\n",
    "CAR = \"🚘\"\n",
    "BUNKER = \"🏠\"\n",
    "EMPTY = \"⬜\""
   ]
  },
  {
   "cell_type": "code",
   "execution_count": 3,
   "id": "b02026d2-70f5-49f0-84ff-12c165ba9da2",
   "metadata": {},
   "outputs": [],
   "source": [
    "# DON'T CHANGE ANYTHING IN THE GRID AS IT IS COUPLED WITH ENVIRONMENT DYNAMICS\n",
    "# IF YOU WANT TO DO ANY MODIFICATIONS, CONSIDER ADDING THEM TO ENV. DYNAMICS TOO!\n",
    "grid = [\n",
    "    [BUNKER, EMPTY, ZOMBIE],\n",
    "    [ZOMBIE, EMPTY, EMPTY],\n",
    "    [EMPTY, ZOMBIE, CAR]\n",
    "]\n",
    "NUM_STATES = 9"
   ]
  },
  {
   "cell_type": "code",
   "execution_count": 4,
   "id": "5bcf37d7-fc6f-46c5-8314-a3ff4efcdfeb",
   "metadata": {},
   "outputs": [
    {
     "name": "stdout",
     "output_type": "stream",
     "text": [
      "🏠   ⬜   💀\n",
      "\n",
      "💀   ⬜   ⬜\n",
      "\n",
      "⬜   💀   🚘\n",
      "\n"
     ]
    }
   ],
   "source": [
    "for row in grid:\n",
    "    print('   '.join(row), end=\"\\n\\n\")"
   ]
  },
  {
   "cell_type": "code",
   "execution_count": 5,
   "id": "9a1cfd26-eadd-489d-bf7c-f9465e7b0682",
   "metadata": {},
   "outputs": [
    {
     "data": {
      "text/plain": [
       "array([0, 1, 2, 3])"
      ]
     },
     "execution_count": 5,
     "metadata": {},
     "output_type": "execute_result"
    }
   ],
   "source": [
    "# 0 -> Right\n",
    "# 1 -> Up\n",
    "# 2 -> Left\n",
    "# 3 -> Down\n",
    "idx_action = [\"Right\", \"Up\", \"Left\", \"Down\"]\n",
    "NUM_ACTIONS = 4\n",
    "actions = np.arange(NUM_ACTIONS)\n",
    "actions"
   ]
  },
  {
   "cell_type": "code",
   "execution_count": 6,
   "id": "220f47da-d113-4e5c-b373-c34a231fc0f0",
   "metadata": {},
   "outputs": [],
   "source": [
    "# SETTING ENVIRONMENT DYNAMICS\n",
    "\n",
    "# ------------------------------\n",
    "# REACHING BUNKER: +10\n",
    "# Getting to ZOMBIE: -50\n",
    "# TRYING TO GET OUT OF BOUNDS: -5\n",
    "# NORMAL DRIVING: -1\n",
    "# ------------------------------\n",
    "\n",
    "def get_state_and_reward(current_state, action):\n",
    "    action = idx_action[action]\n",
    "    if current_state == 8:\n",
    "        match action:\n",
    "            case \"Right\":\n",
    "                return 8, -5, False\n",
    "            case \"Up\":\n",
    "                return 5, -1, False\n",
    "            case \"Left\":\n",
    "                return 8, -50, True\n",
    "            case \"Down\":\n",
    "                return 8, -5, False\n",
    "    if current_state == 5:\n",
    "        match action:\n",
    "            case \"Right\":\n",
    "                return 5, -5, False\n",
    "            case \"Up\":\n",
    "                return 5, -50, True\n",
    "            case \"Left\":\n",
    "                return 4, -1, False\n",
    "            case \"Down\":\n",
    "                return 8, -1, False\n",
    "    if current_state == 4:\n",
    "        match action:\n",
    "            case \"Right\":\n",
    "                return 5, -1, False\n",
    "            case \"Up\":\n",
    "                return 1, -1, False\n",
    "            case \"Left\":\n",
    "                return 4, -50, True\n",
    "            case \"Down\":\n",
    "                return 4, -50, True\n",
    "    if current_state == 1:\n",
    "        match action:\n",
    "            case \"Right\":\n",
    "                return 1, -50, True\n",
    "            case \"Up\":\n",
    "                return 1, -5, False\n",
    "            case \"Left\":\n",
    "                return 0, 10, True\n",
    "            case \"Down\":\n",
    "                return 4, -1, False"
   ]
  },
  {
   "cell_type": "code",
   "execution_count": 7,
   "id": "9800258f-8f0d-48b3-b98e-3143aafb1d4a",
   "metadata": {},
   "outputs": [],
   "source": [
    "Q_values = np.zeros((NUM_STATES, NUM_ACTIONS))\n",
    "# Monte Carlo\n",
    "epsilon = 0.1\n",
    "alpha = 0.1\n",
    "current_state = 8\n",
    "# Will give optimal policy even in 100 iterations <3\n",
    "for i in range(100000):\n",
    "    greedy_action = np.argmax(Q_values[current_state])\n",
    "    action = greedy_action\n",
    "    if np.random.rand() < epsilon:\n",
    "        # Explore\n",
    "        while action == greedy_action:\n",
    "            action = np.random.randint(0, NUM_ACTIONS)\n",
    "    new_state, reward, end = get_state_and_reward(current_state, action)\n",
    "    Q_values[current_state][action] += alpha*(reward + np.max(Q_values[new_state]) - Q_values[current_state][action])\n",
    "    if end:\n",
    "        current_state = 8\n",
    "    else:\n",
    "        current_state = new_state"
   ]
  },
  {
   "cell_type": "code",
   "execution_count": 8,
   "id": "1983eec6-fc51-4936-96b7-124e477709e4",
   "metadata": {},
   "outputs": [
    {
     "data": {
      "text/plain": [
       "array([[  0.,   0.,   0.,   0.],\n",
       "       [-40.,   5.,  10.,   8.],\n",
       "       [  0.,   0.,   0.,   0.],\n",
       "       [  0.,   0.,   0.,   0.],\n",
       "       [  7.,   9., -41., -41.],\n",
       "       [  3., -42.,   8.,   6.],\n",
       "       [  0.,   0.,   0.,   0.],\n",
       "       [  0.,   0.,   0.,   0.],\n",
       "       [  2.,   7., -43.,   2.]])"
      ]
     },
     "execution_count": 8,
     "metadata": {},
     "output_type": "execute_result"
    }
   ],
   "source": [
    "Q_values"
   ]
  },
  {
   "cell_type": "code",
   "execution_count": 9,
   "id": "30c99881-f8c3-4a0a-9dda-6ce22f2a0aca",
   "metadata": {},
   "outputs": [
    {
     "data": {
      "text/plain": [
       "array([0, 2, 0, 0, 1, 2, 0, 0, 1])"
      ]
     },
     "execution_count": 9,
     "metadata": {},
     "output_type": "execute_result"
    }
   ],
   "source": [
    "# Optimal Policy\n",
    "pi = np.argmax(Q_values, axis=1)\n",
    "pi"
   ]
  },
  {
   "cell_type": "code",
   "execution_count": 10,
   "id": "ac741dcf-5a1d-4086-8bd7-bac3f536b2bb",
   "metadata": {},
   "outputs": [
    {
     "name": "stdout",
     "output_type": "stream",
     "text": [
      "🏠   ⬜   💀\n",
      "\n",
      "💀   ⬜   ⬜\n",
      "\n",
      "⬜   💀   🚘\n",
      "\n",
      "\n",
      "\n",
      "Took action: Up\n",
      "Took action: Left\n",
      "Took action: Up\n",
      "Took action: Left\n"
     ]
    }
   ],
   "source": [
    "for row in grid:\n",
    "    print('   '.join(row), end=\"\\n\\n\")\n",
    "print(\"\\n\")\n",
    "# Following optimal policy\n",
    "current_state = 8\n",
    "end = False\n",
    "while not end:\n",
    "    action = pi[current_state]\n",
    "    print(f\"Took action: {idx_action[action]}\")\n",
    "    current_state, reward, end = get_state_and_reward(current_state, action)"
   ]
  },
  {
   "cell_type": "code",
   "execution_count": null,
   "id": "009ed808-4910-493a-afde-aff2337ba4fe",
   "metadata": {},
   "outputs": [],
   "source": []
  }
 ],
 "metadata": {
  "kernelspec": {
   "display_name": "Python 3 (ipykernel)",
   "language": "python",
   "name": "python3"
  },
  "language_info": {
   "codemirror_mode": {
    "name": "ipython",
    "version": 3
   },
   "file_extension": ".py",
   "mimetype": "text/x-python",
   "name": "python",
   "nbconvert_exporter": "python",
   "pygments_lexer": "ipython3",
   "version": "3.10.12"
  }
 },
 "nbformat": 4,
 "nbformat_minor": 5
}
